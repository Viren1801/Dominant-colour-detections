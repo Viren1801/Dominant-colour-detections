{
 "cells": [
  {
   "cell_type": "code",
   "execution_count": 48,
   "metadata": {
    "scrolled": true
   },
   "outputs": [],
   "source": [
    "#!pip install opencv-python\n",
    "from sklearn.cluster import KMeans\n",
    "import numpy as np\n",
    "import cv2\n",
    "import matplotlib.pyplot as plt\n",
    "import os"
   ]
  },
  {
   "cell_type": "code",
   "execution_count": 52,
   "metadata": {},
   "outputs": [
    {
     "data": {
      "text/plain": [
       "[array([[[141, 144, 146],\n",
       "         [131, 137, 138],\n",
       "         [122, 130, 131],\n",
       "         ...,\n",
       "         [129, 124, 119],\n",
       "         [177, 172, 166],\n",
       "         [ 61,  57,  53]],\n",
       " \n",
       "        [[132, 134, 135],\n",
       "         [141, 144, 145],\n",
       "         [120, 125, 125],\n",
       "         ...,\n",
       "         [125, 118, 116],\n",
       "         [176, 169, 166],\n",
       "         [ 66,  60,  59]],\n",
       " \n",
       "        [[118, 120, 121],\n",
       "         [137, 140, 139],\n",
       "         [120, 122, 122],\n",
       "         ...,\n",
       "         [134, 128, 125],\n",
       "         [203, 197, 195],\n",
       "         [ 60,  54,  53]],\n",
       " \n",
       "        ...,\n",
       " \n",
       "        [[153, 145, 142],\n",
       "         [168, 160, 157],\n",
       "         [159, 151, 147],\n",
       "         ...,\n",
       "         [177, 185, 170],\n",
       "         [228, 234, 223],\n",
       "         [ 54,  57,  51]],\n",
       " \n",
       "        [[141, 133, 129],\n",
       "         [160, 152, 147],\n",
       "         [164, 156, 152],\n",
       "         ...,\n",
       "         [170, 171, 162],\n",
       "         [204, 205, 196],\n",
       "         [ 53,  54,  46]],\n",
       " \n",
       "        [[164, 157, 152],\n",
       "         [139, 131, 125],\n",
       "         [176, 169, 164],\n",
       "         ...,\n",
       "         [133, 133, 126],\n",
       "         [195, 195, 187],\n",
       "         [ 60,  61,  55]]], dtype=uint8),\n",
       " array([[[ 77,  79,  75],\n",
       "         [ 89,  91,  86],\n",
       "         [120, 122, 118],\n",
       "         ...,\n",
       "         [ 93, 119, 117],\n",
       "         [127, 153, 147],\n",
       "         [132, 157, 152]],\n",
       " \n",
       "        [[103, 104, 103],\n",
       "         [103, 103, 102],\n",
       "         [110, 110, 109],\n",
       "         ...,\n",
       "         [135, 157, 154],\n",
       "         [113, 137, 130],\n",
       "         [107, 127, 122]],\n",
       " \n",
       "        [[103, 107, 107],\n",
       "         [111, 112, 112],\n",
       "         [102, 104, 103],\n",
       "         ...,\n",
       "         [125, 144, 141],\n",
       "         [126, 141, 137],\n",
       "         [144, 153, 153]],\n",
       " \n",
       "        ...,\n",
       " \n",
       "        [[125, 110,  94],\n",
       "         [102,  88,  75],\n",
       "         [126, 116, 108],\n",
       "         ...,\n",
       "         [246, 232, 207],\n",
       "         [244, 232, 211],\n",
       "         [250, 246, 226]],\n",
       " \n",
       "        [[112,  97,  81],\n",
       "         [113, 100,  86],\n",
       "         [145, 135, 126],\n",
       "         ...,\n",
       "         [253, 251, 236],\n",
       "         [246, 241, 224],\n",
       "         [246, 238, 218]],\n",
       " \n",
       "        [[118, 103,  87],\n",
       "         [135, 121, 107],\n",
       "         [135, 126, 117],\n",
       "         ...,\n",
       "         [250, 240, 217],\n",
       "         [255, 250, 230],\n",
       "         [255, 250, 233]]], dtype=uint8),\n",
       " array([[[156, 184, 179],\n",
       "         [156, 188, 179],\n",
       "         [ 82, 112, 103],\n",
       "         ...,\n",
       "         [241, 236, 229],\n",
       "         [104,  96,  89],\n",
       "         [125, 118, 112]],\n",
       " \n",
       "        [[151, 179, 174],\n",
       "         [161, 193, 184],\n",
       "         [128, 159, 149],\n",
       "         ...,\n",
       "         [214, 209, 205],\n",
       "         [ 69,  59,  54],\n",
       "         [143, 137, 131]],\n",
       " \n",
       "        [[169, 194, 190],\n",
       "         [ 84, 116, 107],\n",
       "         [110, 142, 132],\n",
       "         ...,\n",
       "         [177, 169, 165],\n",
       "         [ 40,  31,  25],\n",
       "         [150, 145, 139]],\n",
       " \n",
       "        ...,\n",
       " \n",
       "        [[135, 131, 122],\n",
       "         [147, 140, 134],\n",
       "         [122, 115, 110],\n",
       "         ...,\n",
       "         [250, 239, 220],\n",
       "         [243, 226, 203],\n",
       "         [254, 248, 236]],\n",
       " \n",
       "        [[131, 128, 119],\n",
       "         [122, 115, 109],\n",
       "         [135, 128, 123],\n",
       "         ...,\n",
       "         [255, 244, 221],\n",
       "         [255, 246, 224],\n",
       "         [255, 243, 223]],\n",
       " \n",
       "        [[ 84,  80,  74],\n",
       "         [ 88,  82,  76],\n",
       "         [ 87,  80,  75],\n",
       "         ...,\n",
       "         [179, 171, 156],\n",
       "         [178, 168, 154],\n",
       "         [175, 164, 151]]], dtype=uint8),\n",
       " array([[[ 43,  95, 151],\n",
       "         [ 98, 159, 212],\n",
       "         [170, 232, 255],\n",
       "         ...,\n",
       "         [ 52, 109, 129],\n",
       "         [ 70, 121, 139],\n",
       "         [119, 160, 174]],\n",
       " \n",
       "        [[130, 203, 255],\n",
       "         [108, 176, 228],\n",
       "         [ 89, 156, 195],\n",
       "         ...,\n",
       "         [ 86, 117, 124],\n",
       "         [171, 192, 197],\n",
       "         [239, 249, 250]],\n",
       " \n",
       "        [[170, 240, 255],\n",
       "         [ 53, 111, 162],\n",
       "         [  0,  17,  62],\n",
       "         ...,\n",
       "         [247, 250, 249],\n",
       "         [255, 255, 255],\n",
       "         [255, 255, 255]],\n",
       " \n",
       "        ...,\n",
       " \n",
       "        [[122, 115, 105],\n",
       "         [123, 114, 105],\n",
       "         [122, 113, 103],\n",
       "         ...,\n",
       "         [142, 133, 125],\n",
       "         [160, 151, 144],\n",
       "         [139, 130, 124]],\n",
       " \n",
       "        [[ 93,  85,  74],\n",
       "         [108, 100,  90],\n",
       "         [117, 109,  99],\n",
       "         ...,\n",
       "         [147, 138, 131],\n",
       "         [133, 124, 116],\n",
       "         [156, 146, 140]],\n",
       " \n",
       "        [[104,  96,  86],\n",
       "         [121, 112, 103],\n",
       "         [110, 102,  92],\n",
       "         ...,\n",
       "         [172, 163, 155],\n",
       "         [154, 145, 137],\n",
       "         [157, 148, 142]]], dtype=uint8),\n",
       " array([[[171, 174, 168],\n",
       "         [ 77,  80,  77],\n",
       "         [ 62,  66,  63],\n",
       "         ...,\n",
       "         [159, 160, 158],\n",
       "         [152, 153, 151],\n",
       "         [125, 126, 123]],\n",
       " \n",
       "        [[167, 171, 166],\n",
       "         [ 79,  84,  80],\n",
       "         [ 62,  66,  63],\n",
       "         ...,\n",
       "         [134, 135, 133],\n",
       "         [101, 102, 100],\n",
       "         [ 56,  57,  54]],\n",
       " \n",
       "        [[161, 167, 162],\n",
       "         [ 79,  86,  82],\n",
       "         [ 63,  68,  64],\n",
       "         ...,\n",
       "         [ 63,  64,  61],\n",
       "         [ 50,  51,  48],\n",
       "         [ 54,  55,  52]],\n",
       " \n",
       "        ...,\n",
       " \n",
       "        [[138, 130, 125],\n",
       "         [123, 116, 109],\n",
       "         [144, 138, 127],\n",
       "         ...,\n",
       "         [249, 247, 233],\n",
       "         [251, 250, 231],\n",
       "         [255, 254, 238]],\n",
       " \n",
       "        [[153, 145, 140],\n",
       "         [125, 118, 111],\n",
       "         [133, 128, 117],\n",
       "         ...,\n",
       "         [255, 255, 253],\n",
       "         [255, 255, 251],\n",
       "         [255, 255, 238]],\n",
       " \n",
       "        [[ 97,  89,  86],\n",
       "         [ 76,  69,  64],\n",
       "         [ 87,  81,  74],\n",
       "         ...,\n",
       "         [162, 161, 148],\n",
       "         [159, 158, 148],\n",
       "         [149, 145, 129]]], dtype=uint8)]"
      ]
     },
     "execution_count": 52,
     "metadata": {},
     "output_type": "execute_result"
    }
   ],
   "source": [
    "images = []\n",
    "def load_images_from_folder(folder):\n",
    "    \n",
    "    for filename in os.listdir(folder):\n",
    "        img = cv2.imread(os.path.join(folder,filename))\n",
    "        if img is not None:\n",
    "            images.append(img)\n",
    "    return images\n",
    "folder=\"E:\\dominant colour extraction\\dominant_color_extraction-master\\dataset\"\n",
    "\n",
    "load_images_from_folder(folder)"
   ]
  },
  {
   "cell_type": "code",
   "execution_count": 50,
   "metadata": {},
   "outputs": [
    {
     "data": {
      "text/plain": [
       "'img = cv2.imread(\"0029.png\")#Reads an image into BGR Format\\nimg2= cv2.imread(\"0027.png\")\\nimg3= cv2.imread(\"0028.png\")\\nimg4= cv2.imread(\"0029.png\")\\nimg = cv2.cvtColor(img, cv2.COLOR_BGR2RGB)\\nimg2 = cv2.cvtColor(img, cv2.COLOR_BGR2RGB)\\nimg3 = cv2.cvtColor(img, cv2.COLOR_BGR2RGB)\\nimg4 = cv2.cvtColor(img, cv2.COLOR_BGR2RGB)'"
      ]
     },
     "execution_count": 50,
     "metadata": {},
     "output_type": "execute_result"
    }
   ],
   "source": [
    "'''img = cv2.imread(\"0029.png\")#Reads an image into BGR Format\n",
    "img2= cv2.imread(\"0027.png\")\n",
    "img3= cv2.imread(\"0028.png\")\n",
    "img4= cv2.imread(\"0029.png\")\n",
    "img = cv2.cvtColor(img, cv2.COLOR_BGR2RGB)\n",
    "img2 = cv2.cvtColor(img, cv2.COLOR_BGR2RGB)\n",
    "img3 = cv2.cvtColor(img, cv2.COLOR_BGR2RGB)\n",
    "img4 = cv2.cvtColor(img, cv2.COLOR_BGR2RGB)'''\n"
   ]
  },
  {
   "cell_type": "code",
   "execution_count": 84,
   "metadata": {},
   "outputs": [
    {
     "name": "stdout",
     "output_type": "stream",
     "text": [
      "<class 'list'>\n",
      "<class 'list'>\n"
     ]
    },
    {
     "data": {
      "text/plain": [
       "[array([[141, 144, 146],\n",
       "        [131, 137, 138],\n",
       "        [122, 130, 131],\n",
       "        ...,\n",
       "        [133, 133, 126],\n",
       "        [195, 195, 187],\n",
       "        [ 60,  61,  55]], dtype=uint8),\n",
       " array([[ 77,  79,  75],\n",
       "        [ 89,  91,  86],\n",
       "        [120, 122, 118],\n",
       "        ...,\n",
       "        [250, 240, 217],\n",
       "        [255, 250, 230],\n",
       "        [255, 250, 233]], dtype=uint8),\n",
       " array([[156, 184, 179],\n",
       "        [156, 188, 179],\n",
       "        [ 82, 112, 103],\n",
       "        ...,\n",
       "        [179, 171, 156],\n",
       "        [178, 168, 154],\n",
       "        [175, 164, 151]], dtype=uint8),\n",
       " array([[ 43,  95, 151],\n",
       "        [ 98, 159, 212],\n",
       "        [170, 232, 255],\n",
       "        ...,\n",
       "        [172, 163, 155],\n",
       "        [154, 145, 137],\n",
       "        [157, 148, 142]], dtype=uint8),\n",
       " array([[[171, 174, 168],\n",
       "         [ 77,  80,  77],\n",
       "         [ 62,  66,  63],\n",
       "         ...,\n",
       "         [159, 160, 158],\n",
       "         [152, 153, 151],\n",
       "         [125, 126, 123]],\n",
       " \n",
       "        [[167, 171, 166],\n",
       "         [ 79,  84,  80],\n",
       "         [ 62,  66,  63],\n",
       "         ...,\n",
       "         [134, 135, 133],\n",
       "         [101, 102, 100],\n",
       "         [ 56,  57,  54]],\n",
       " \n",
       "        [[161, 167, 162],\n",
       "         [ 79,  86,  82],\n",
       "         [ 63,  68,  64],\n",
       "         ...,\n",
       "         [ 63,  64,  61],\n",
       "         [ 50,  51,  48],\n",
       "         [ 54,  55,  52]],\n",
       " \n",
       "        ...,\n",
       " \n",
       "        [[138, 130, 125],\n",
       "         [123, 116, 109],\n",
       "         [144, 138, 127],\n",
       "         ...,\n",
       "         [249, 247, 233],\n",
       "         [251, 250, 231],\n",
       "         [255, 254, 238]],\n",
       " \n",
       "        [[153, 145, 140],\n",
       "         [125, 118, 111],\n",
       "         [133, 128, 117],\n",
       "         ...,\n",
       "         [255, 255, 253],\n",
       "         [255, 255, 251],\n",
       "         [255, 255, 238]],\n",
       " \n",
       "        [[ 97,  89,  86],\n",
       "         [ 76,  69,  64],\n",
       "         [ 87,  81,  74],\n",
       "         ...,\n",
       "         [162, 161, 148],\n",
       "         [159, 158, 148],\n",
       "         [149, 145, 129]]], dtype=uint8)]"
      ]
     },
     "execution_count": 84,
     "metadata": {},
     "output_type": "execute_result"
    }
   ],
   "source": [
    "# Flatten Each channel of the Image\n",
    "c_img = images.copy()\n",
    "print(type(c_img))\n",
    "for i in range(0,len(c_img)-1):\n",
    "    c_img[i]=np.reshape(c_img[i],(-1,3))\n",
    "# c_img = np.reshape(c_img, (-1,3))\n",
    "#print(type(c_img))\n",
    "c_img[:10]"
   ]
  },
  {
   "cell_type": "code",
   "execution_count": 85,
   "metadata": {},
   "outputs": [],
   "source": [
    "kmeans = KMeans(n_clusters=7,random_state=2)"
   ]
  },
  {
   "cell_type": "code",
   "execution_count": 87,
   "metadata": {},
   "outputs": [
    {
     "name": "stdout",
     "output_type": "stream",
     "text": [
      "[6 6 6 ... 6 0 1]\n",
      "[0 5 2 ... 3 3 3]\n",
      "[5 5 4 ... 5 5 5]\n",
      "[3 0 2 ... 6 6 6]\n"
     ]
    }
   ],
   "source": [
    "for i in range(0,len(c_img)-1):\n",
    "    print(kmeans.fit_predict(c_img[i]))\n"
   ]
  },
  {
   "cell_type": "code",
   "execution_count": 55,
   "metadata": {},
   "outputs": [
    {
     "data": {
      "text/plain": [
       "array([5, 4, 4, ..., 5, 5, 4])"
      ]
     },
     "execution_count": 55,
     "metadata": {},
     "output_type": "execute_result"
    }
   ],
   "source": [
    "\n",
    "#kmeans.fit_predict(c_img)"
   ]
  },
  {
   "cell_type": "code",
   "execution_count": 56,
   "metadata": {},
   "outputs": [
    {
     "name": "stdout",
     "output_type": "stream",
     "text": [
      "[[189 190 183]\n",
      " [ 37  36  34]\n",
      " [100 100  97]\n",
      " [242 241 232]\n",
      " [131 130 125]\n",
      " [158 155 151]\n",
      " [ 68  64  63]]\n"
     ]
    }
   ],
   "source": [
    "centers = kmeans.cluster_centers_.astype(int)\n",
    "\n",
    "print (centers)"
   ]
  },
  {
   "cell_type": "code",
   "execution_count": 57,
   "metadata": {},
   "outputs": [
    {
     "name": "stdout",
     "output_type": "stream",
     "text": [
      "[0.10065625 0.21346875 0.125625   0.04579687 0.19346875 0.1840625\n",
      " 0.13692187]\n"
     ]
    }
   ],
   "source": [
    "per = np.array(np.unique(kmeans.labels_, return_counts=True)[1], dtype=np.float32)\n",
    "per = per/c_img.shape[0]\n",
    "\n",
    "print(per)"
   ]
  },
  {
   "cell_type": "code",
   "execution_count": 58,
   "metadata": {
    "scrolled": true
   },
   "outputs": [
    {
     "name": "stdout",
     "output_type": "stream",
     "text": [
      "[[0.21346875, array([37, 36, 34])], [0.19346875, array([131, 130, 125])], [0.1840625, array([158, 155, 151])], [0.13692187, array([68, 64, 63])], [0.125625, array([100, 100,  97])], [0.10065625, array([189, 190, 183])], [0.045796875, array([242, 241, 232])]]\n"
     ]
    }
   ],
   "source": [
    "dom = [ [per[ix], centers[ix]] for ix in range(kmeans.n_clusters) ]\n",
    "#print (dom)\n",
    "DOM = sorted(dom, reverse=True)\n",
    "\n",
    "print (DOM)"
   ]
  },
  {
   "cell_type": "code",
   "execution_count": 60,
   "metadata": {
    "scrolled": true
   },
   "outputs": [
    {
     "data": {
      "image/png": "[encoded data removed]",
      "text/plain": [
       "<Figure size 360x360 with 1 Axes>"
      ]
     },
     "metadata": {
      "needs_background": "light"
     },
     "output_type": "display_data"
    },
    {
     "name": "stdout",
     "output_type": "stream",
     "text": [
      "(160, 80, 3)\n"
     ]
    }
   ],
   "source": [
    "plt.figure(figsize=(5,5))\n",
    "plt.imshow(img)# as RGB Format\n",
    "plt.show()\n",
    "print (img.shape)"
   ]
  },
  {
   "cell_type": "markdown",
   "metadata": {},
   "source": [
    "### Plotting what all colors are these :"
   ]
  },
  {
   "cell_type": "code",
   "execution_count": 61,
   "metadata": {},
   "outputs": [
    {
     "data": {
      "image/png": "[encoded data removed]",
      "text/plain": [
       "<Figure size 432x288 with 1 Axes>"
      ]
     },
     "metadata": {
      "needs_background": "light"
     },
     "output_type": "display_data"
    }
   ],
   "source": [
    "color_p = np.zeros((50,500,3)).astype(int)\n",
    "\n",
    "start = 0\n",
    "for ix in range(kmeans.n_clusters):\n",
    "    width = int( (DOM[ix][0])*color_p.shape[1] )\n",
    "    \n",
    "    end = start+width\n",
    "    color_p[:,start:end, :] = DOM[ix][1]\n",
    "    start = end\n",
    "    \n",
    "plt.imshow(color_p)\n",
    "plt.show()"
   ]
  },
  {
   "cell_type": "code",
   "execution_count": null,
   "metadata": {},
   "outputs": [],
   "source": []
  }
 ],
 "metadata": {
  "kernelspec": {
   "display_name": "Python 3",
   "language": "python",
   "name": "python3"
  },
  "language_info": {
   "codemirror_mode": {
    "name": "ipython",
    "version": 3
   },
   "file_extension": ".py",
   "mimetype": "text/x-python",
   "name": "python",
   "nbconvert_exporter": "python",
   "pygments_lexer": "ipython3",
   "version": "3.9.1"
  }
 },
 "nbformat": 4,
 "nbformat_minor": 2
}
